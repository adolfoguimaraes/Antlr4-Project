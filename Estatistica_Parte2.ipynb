{
  "nbformat": 4,
  "nbformat_minor": 0,
  "metadata": {
    "colab": {
      "provenance": [],
      "authorship_tag": "ABX9TyMLODmBxVP9pV2TGHA3Xpn5",
      "include_colab_link": true
    },
    "kernelspec": {
      "name": "python3",
      "display_name": "Python 3"
    },
    "language_info": {
      "name": "python"
    }
  },
  "cells": [
    {
      "cell_type": "markdown",
      "metadata": {
        "id": "view-in-github",
        "colab_type": "text"
      },
      "source": [
        "<a href=\"https://colab.research.google.com/github/adolfoguimaraes/Antlr4-Project/blob/main/Estatistica_Parte2.ipynb\" target=\"_parent\"><img src=\"https://colab.research.google.com/assets/colab-badge.svg\" alt=\"Open In Colab\"/></a>"
      ]
    },
    {
      "cell_type": "markdown",
      "source": [
        "## Instalação, Configurações e Imports"
      ],
      "metadata": {
        "id": "mlzJE4JoKS8r"
      }
    },
    {
      "cell_type": "code",
      "source": [
        "# Instalação do PySpark\n",
        "!pip install pyspark"
      ],
      "metadata": {
        "colab": {
          "base_uri": "https://localhost:8080/"
        },
        "id": "RZo9ilR_KmbQ",
        "outputId": "fbd1384f-391b-4e49-c821-5264ea350a51"
      },
      "execution_count": 1,
      "outputs": [
        {
          "output_type": "stream",
          "name": "stdout",
          "text": [
            "Looking in indexes: https://pypi.org/simple, https://us-python.pkg.dev/colab-wheels/public/simple/\n",
            "Requirement already satisfied: pyspark in /usr/local/lib/python3.9/dist-packages (3.3.2)\n",
            "Requirement already satisfied: py4j==0.10.9.5 in /usr/local/lib/python3.9/dist-packages (from pyspark) (0.10.9.5)\n"
          ]
        }
      ]
    },
    {
      "cell_type": "code",
      "source": [
        "# Imports\n",
        "from google.colab import drive\n",
        "from pyspark.sql import SparkSession\n",
        "import pyspark.sql.functions as F"
      ],
      "metadata": {
        "id": "8u8J4CHiKbSJ"
      },
      "execution_count": 2,
      "outputs": []
    },
    {
      "cell_type": "code",
      "execution_count": 3,
      "metadata": {
        "colab": {
          "base_uri": "https://localhost:8080/"
        },
        "id": "HdgiI_iJKJdQ",
        "outputId": "0f9e6012-b38f-4687-8515-c0a4331e92af"
      },
      "outputs": [
        {
          "output_type": "stream",
          "name": "stdout",
          "text": [
            "Drive already mounted at /content/drive; to attempt to forcibly remount, call drive.mount(\"/content/drive\", force_remount=True).\n"
          ]
        }
      ],
      "source": [
        "# Diretório das bases \n",
        "drive.mount('/content/drive')\n",
        "data_path = '/content/drive/MyDrive/datasets/'"
      ]
    },
    {
      "cell_type": "code",
      "source": [
        "# Inicialização do Spark\n",
        "spark = (SparkSession\n",
        "         .builder\n",
        "         .appName(\"Stats App\")\n",
        "         .getOrCreate())\n",
        "     "
      ],
      "metadata": {
        "id": "ivIoOVuAKSEQ"
      },
      "execution_count": 4,
      "outputs": []
    },
    {
      "cell_type": "markdown",
      "source": [
        "## Base de Dados\n",
        "\n",
        "https://nijianmo.github.io/amazon/index.html\n",
        "\n",
        "Vamos carregar nossa base de dados no formato JSON.\n",
        "\n",
        "Com o arquivo Movies_and_TV_5.json. \n",
        "\n",
        "Vamos criar um pipeline de processamento de texto e exibição de algumas estatísticas e depois aplicar a diferentes cenários."
      ],
      "metadata": {
        "id": "aZOFKmoHhBqt"
      }
    },
    {
      "cell_type": "code",
      "source": [
        "shows = (spark\n",
        "         .read\n",
        "         .json(data_path + \"tv_shows/Movies_and_TV_5.json\"))"
      ],
      "metadata": {
        "id": "mI_pPCEZhGxY"
      },
      "execution_count": 5,
      "outputs": []
    },
    {
      "cell_type": "code",
      "source": [
        "shows.count()"
      ],
      "metadata": {
        "colab": {
          "base_uri": "https://localhost:8080/"
        },
        "id": "OqZGUPkChUKL",
        "outputId": "53140fd4-4178-4efb-d7cd-908fdd4b521c"
      },
      "execution_count": 6,
      "outputs": [
        {
          "output_type": "execute_result",
          "data": {
            "text/plain": [
              "3410019"
            ]
          },
          "metadata": {},
          "execution_count": 6
        }
      ]
    },
    {
      "cell_type": "code",
      "source": [],
      "metadata": {
        "id": "U1cfeRWpj2P3"
      },
      "execution_count": 6,
      "outputs": []
    },
    {
      "cell_type": "code",
      "source": [
        "shows.printSchema()"
      ],
      "metadata": {
        "colab": {
          "base_uri": "https://localhost:8080/"
        },
        "id": "AM8IvZsFhXzZ",
        "outputId": "d11592f5-0ec8-4632-85bf-a0e853a0c2e1"
      },
      "execution_count": 7,
      "outputs": [
        {
          "output_type": "stream",
          "name": "stdout",
          "text": [
            "root\n",
            " |-- asin: string (nullable = true)\n",
            " |-- image: array (nullable = true)\n",
            " |    |-- element: string (containsNull = true)\n",
            " |-- overall: double (nullable = true)\n",
            " |-- reviewText: string (nullable = true)\n",
            " |-- reviewTime: string (nullable = true)\n",
            " |-- reviewerID: string (nullable = true)\n",
            " |-- reviewerName: string (nullable = true)\n",
            " |-- style: struct (nullable = true)\n",
            " |    |-- Format:: string (nullable = true)\n",
            " |    |-- Shape:: string (nullable = true)\n",
            " |    |-- Size:: string (nullable = true)\n",
            " |-- summary: string (nullable = true)\n",
            " |-- unixReviewTime: long (nullable = true)\n",
            " |-- verified: boolean (nullable = true)\n",
            " |-- vote: string (nullable = true)\n",
            "\n"
          ]
        }
      ]
    },
    {
      "cell_type": "code",
      "source": [
        "my_data = (shows\n",
        "           .select('asin','overall','reviewText','unixReviewTime','reviewerID')\n",
        "           .withColumn(\"reviewDate\",\n",
        "                       F.date_format(\n",
        "                           F.from_unixtime(F.col(\"unixReviewTime\")),\"yyyy-MM-dd\"))\n",
        "           .drop(F.col('unixReviewTime'))\n",
        ")\n",
        "my_data.show(5)"
      ],
      "metadata": {
        "colab": {
          "base_uri": "https://localhost:8080/"
        },
        "id": "XPcOXdWHiPG5",
        "outputId": "fcc92b5b-779b-455f-ab69-97e01888fcab"
      },
      "execution_count": 8,
      "outputs": [
        {
          "output_type": "stream",
          "name": "stdout",
          "text": [
            "+----------+-------+--------------------+--------------+----------+\n",
            "|      asin|overall|          reviewText|    reviewerID|reviewDate|\n",
            "+----------+-------+--------------------+--------------+----------+\n",
            "|0005089549|    5.0|So sorry I didn't...|A2M1CU2IRZG0K9|2012-11-09|\n",
            "|0005089549|    5.0|Believe me when I...| AFTUJYISOFHY6|2011-12-30|\n",
            "|000503860X|    5.0|I have seen X liv...|A3JVF9Y53BEOGC|2005-04-21|\n",
            "|000503860X|    5.0|I was so excited ...|A12VPEOEZS1KTC|2005-04-06|\n",
            "|000503860X|    5.0|X is one of the b...| ATLZNVLYKP9AZ|2010-12-03|\n",
            "+----------+-------+--------------------+--------------+----------+\n",
            "only showing top 5 rows\n",
            "\n"
          ]
        }
      ]
    },
    {
      "cell_type": "code",
      "source": [
        "my_data.groupBy(\"asin\").agg(F.count(\"asin\")).count()"
      ],
      "metadata": {
        "colab": {
          "base_uri": "https://localhost:8080/"
        },
        "id": "oJsGvMiLj6ad",
        "outputId": "e0de3597-e51e-4721-8b15-83b03b35f7da"
      },
      "execution_count": 9,
      "outputs": [
        {
          "output_type": "execute_result",
          "data": {
            "text/plain": [
              "60175"
            ]
          },
          "metadata": {},
          "execution_count": 9
        }
      ]
    },
    {
      "cell_type": "code",
      "source": [
        "my_data.groupBy(\"reviewerID\").agg(F.count(\"reviewerID\")).count()"
      ],
      "metadata": {
        "colab": {
          "base_uri": "https://localhost:8080/"
        },
        "id": "hMU06zbdkKJm",
        "outputId": "c31471e4-ff7e-484a-ab62-503195c9dd69"
      },
      "execution_count": 10,
      "outputs": [
        {
          "output_type": "execute_result",
          "data": {
            "text/plain": [
              "297529"
            ]
          },
          "metadata": {},
          "execution_count": 10
        }
      ]
    },
    {
      "cell_type": "markdown",
      "source": [
        "O DataFrame `my_data` vai ser nosso ponto de partida. Inicialmente, queremos responder as seguintes perguntas: \n",
        "\n",
        "* Qual a média de notas para todos os produtos, por produto e por cliente? É uma boa métrica, nesse caso?  \n",
        "* Qual o total de avaliações por produto e por cliente?"
      ],
      "metadata": {
        "id": "5Q7ej1Qya3_4"
      }
    },
    {
      "cell_type": "code",
      "source": [
        "my_data.select(F.col(\"overall\")).summary().show()"
      ],
      "metadata": {
        "colab": {
          "base_uri": "https://localhost:8080/"
        },
        "id": "5C_TcY24ieEN",
        "outputId": "8f64d9dc-4233-40b0-c040-a27a7620ea59"
      },
      "execution_count": 11,
      "outputs": [
        {
          "output_type": "stream",
          "name": "stdout",
          "text": [
            "+-------+------------------+\n",
            "|summary|           overall|\n",
            "+-------+------------------+\n",
            "|  count|           3410019|\n",
            "|   mean| 4.221320174462371|\n",
            "| stddev|1.1664558754885523|\n",
            "|    min|               1.0|\n",
            "|    25%|               4.0|\n",
            "|    50%|               5.0|\n",
            "|    75%|               5.0|\n",
            "|    max|               5.0|\n",
            "+-------+------------------+\n",
            "\n"
          ]
        }
      ]
    },
    {
      "cell_type": "code",
      "source": [
        "(my_data\n",
        "  .select(\"asin\",\"overall\")\n",
        "  .groupBy(\"asin\")\n",
        "  .agg(\n",
        "      F.mean(\"overall\").alias(\"media\"),\n",
        "      F.percentile_approx(\"overall\", 0.5).alias(\"mediana\"),\n",
        "      F.count(\"asin\").alias(\"total_avaliacoes\")\n",
        "      )\n",
        "  .show())"
      ],
      "metadata": {
        "colab": {
          "base_uri": "https://localhost:8080/"
        },
        "id": "zsTYOZzJjPzc",
        "outputId": "97804336-09c1-4bb8-98bd-96d86e146864"
      },
      "execution_count": 12,
      "outputs": [
        {
          "output_type": "stream",
          "name": "stdout",
          "text": [
            "+----------+------------------+-------+----------------+\n",
            "|      asin|             media|mediana|total_avaliacoes|\n",
            "+----------+------------------+-------+----------------+\n",
            "|0000143588|               5.0|    5.0|               5|\n",
            "|0001526863| 4.928571428571429|    5.0|              14|\n",
            "|0005000009| 4.046511627906977|    5.0|              43|\n",
            "|0005019281| 4.425742574257426|    5.0|             303|\n",
            "|000503860X| 4.666666666666667|    5.0|               9|\n",
            "|0005092663|            4.1875|    5.0|              16|\n",
            "|0005114349| 4.509803921568627|    5.0|              51|\n",
            "|0005119367| 4.786666666666667|    5.0|             225|\n",
            "|0006486576| 4.418181818181818|    5.0|              55|\n",
            "|0307142477|2.7142857142857144|    2.0|               7|\n",
            "|0615115187|4.7407407407407405|    5.0|              27|\n",
            "|073891908X|               3.4|    5.0|               5|\n",
            "|0738920061|3.8333333333333335|    4.0|               6|\n",
            "|0739040375|             4.625|    5.0|               8|\n",
            "|0740318764| 4.909090909090909|    5.0|              11|\n",
            "|0740319140| 4.333333333333333|    5.0|              12|\n",
            "|0740325124| 3.357142857142857|    3.0|              14|\n",
            "|0757915655|               4.8|    5.0|               5|\n",
            "|076400297X|               4.4|    5.0|               5|\n",
            "|0764004581|4.4393939393939394|    5.0|              66|\n",
            "+----------+------------------+-------+----------------+\n",
            "only showing top 20 rows\n",
            "\n"
          ]
        }
      ]
    },
    {
      "cell_type": "code",
      "source": [
        "(my_data\n",
        "  .select(\"reviewerID\",\"overall\")\n",
        "  .groupBy(\"reviewerID\")\n",
        "  .agg(\n",
        "      F.mean(\"overall\").alias(\"media\"),\n",
        "      F.percentile_approx(\"overall\", 0.5).alias(\"mediana\"),\n",
        "      F.count(\"reviewerID\").alias(\"total_avaliacoes\")\n",
        "      )\n",
        "  .show())"
      ],
      "metadata": {
        "colab": {
          "base_uri": "https://localhost:8080/"
        },
        "id": "UvgCVBnYmFxv",
        "outputId": "54e1705a-3d9b-4464-b8cf-20abdc5a726a"
      },
      "execution_count": 13,
      "outputs": [
        {
          "output_type": "stream",
          "name": "stdout",
          "text": [
            "+--------------------+------------------+-------+----------------+\n",
            "|          reviewerID|             media|mediana|total_avaliacoes|\n",
            "+--------------------+------------------+-------+----------------+\n",
            "|A0009988MRFQ3TROTQPI|               5.0|    5.0|               8|\n",
            "|A00311542N70JGNHUZPI|               5.0|    5.0|               5|\n",
            "|A0040548BPHKXMHH3NTI|3.8461538461538463|    4.0|              13|\n",
            "|A0045750NMY09KVSTE01|               5.0|    5.0|              10|\n",
            "|A0048168OBFNFN7WW8XC|               5.0|    5.0|               5|\n",
            "|A0070287EH1P1FHWO3GW|               4.6|    5.0|              10|\n",
            "|A0072041HVZ3465DXUOR|               5.0|    5.0|               7|\n",
            "|A0149220O8WD7KG3O5XR|               4.5|    5.0|              18|\n",
            "|A0264020562YYZ05Y2R5| 4.571428571428571|    5.0|               7|\n",
            "|A0275782DY4RT0D8KADG|               5.0|    5.0|               7|\n",
            "|A0293382VV3VQQ607PY4|               4.0|    4.0|               9|\n",
            "|A0322174KPHFYVAJWTR2| 4.888888888888889|    5.0|               9|\n",
            "| A0343241M6Q8B2UORS7|               5.0|    5.0|               5|\n",
            "|A0345029SW3JMKJLMHER|               5.0|    5.0|               5|\n",
            "|A0346431PV98JX8MFDKG| 4.583333333333333|    5.0|              12|\n",
            "|A03622674FSWUX0PXPAK|               4.4|    4.0|               5|\n",
            "|A0488385844WNV2OWO9X|               5.0|    5.0|               5|\n",
            "|A0490453AYGB1BAAOG64|               5.0|    5.0|              11|\n",
            "|A05802985UN4SSZAWOCI|               4.0|    4.0|               8|\n",
            "|A0592495OUXBOYZIIUOC|               3.5|    4.0|               6|\n",
            "+--------------------+------------------+-------+----------------+\n",
            "only showing top 20 rows\n",
            "\n"
          ]
        }
      ]
    },
    {
      "cell_type": "code",
      "source": [],
      "metadata": {
        "id": "_cKs_xvpqnj-"
      },
      "execution_count": 13,
      "outputs": []
    },
    {
      "cell_type": "code",
      "source": [],
      "metadata": {
        "id": "e4oqBwZivHU3"
      },
      "execution_count": 13,
      "outputs": []
    },
    {
      "cell_type": "markdown",
      "source": [
        "Vamos para mais perguntas: \n",
        "\n",
        "* Quais palavras caracterizam cada produto de acordo com o review dado? "
      ],
      "metadata": {
        "id": "HCymcCyclaCB"
      }
    },
    {
      "cell_type": "code",
      "source": [
        "spark.version"
      ],
      "metadata": {
        "colab": {
          "base_uri": "https://localhost:8080/",
          "height": 36
        },
        "id": "9Y-e2HEXwkeG",
        "outputId": "315ad8d9-e063-4c5e-8b68-e8c9d3e1418b"
      },
      "execution_count": 14,
      "outputs": [
        {
          "output_type": "execute_result",
          "data": {
            "text/plain": [
              "'3.3.2'"
            ],
            "application/vnd.google.colaboratory.intrinsic+json": {
              "type": "string"
            }
          },
          "metadata": {},
          "execution_count": 14
        }
      ]
    },
    {
      "cell_type": "code",
      "source": [
        "text_data = my_data.select(\"asin\",\"reviewText\")\n",
        "\n",
        "text_data = (text_data.select(\"asin\", \n",
        "                              F.explode(F.lower('reviewText'))))\n",
        "\n",
        "text_data.show()"
      ],
      "metadata": {
        "colab": {
          "base_uri": "https://localhost:8080/",
          "height": 526
        },
        "id": "KouEziZgm3Ov",
        "outputId": "437a78a5-51f1-40fe-9257-f21713c7462c"
      },
      "execution_count": 15,
      "outputs": [
        {
          "output_type": "error",
          "ename": "AnalysisException",
          "evalue": "ignored",
          "traceback": [
            "\u001b[0;31m---------------------------------------------------------------------------\u001b[0m",
            "\u001b[0;31mAnalysisException\u001b[0m                         Traceback (most recent call last)",
            "\u001b[0;32m<ipython-input-15-d6a93e01ea70>\u001b[0m in \u001b[0;36m<module>\u001b[0;34m\u001b[0m\n\u001b[1;32m      1\u001b[0m \u001b[0mtext_data\u001b[0m \u001b[0;34m=\u001b[0m \u001b[0mmy_data\u001b[0m\u001b[0;34m.\u001b[0m\u001b[0mselect\u001b[0m\u001b[0;34m(\u001b[0m\u001b[0;34m\"asin\"\u001b[0m\u001b[0;34m,\u001b[0m\u001b[0;34m\"reviewText\"\u001b[0m\u001b[0;34m)\u001b[0m\u001b[0;34m\u001b[0m\u001b[0;34m\u001b[0m\u001b[0m\n\u001b[1;32m      2\u001b[0m \u001b[0;34m\u001b[0m\u001b[0m\n\u001b[0;32m----> 3\u001b[0;31m text_data = (text_data.select(\"asin\", \n\u001b[0m\u001b[1;32m      4\u001b[0m                               F.explode(F.lower('reviewText'))))\n\u001b[1;32m      5\u001b[0m \u001b[0;34m\u001b[0m\u001b[0m\n",
            "\u001b[0;32m/usr/local/lib/python3.9/dist-packages/pyspark/sql/dataframe.py\u001b[0m in \u001b[0;36mselect\u001b[0;34m(self, *cols)\u001b[0m\n\u001b[1;32m   2021\u001b[0m         \u001b[0;34m[\u001b[0m\u001b[0mRow\u001b[0m\u001b[0;34m(\u001b[0m\u001b[0mname\u001b[0m\u001b[0;34m=\u001b[0m\u001b[0;34m'Alice'\u001b[0m\u001b[0;34m,\u001b[0m \u001b[0mage\u001b[0m\u001b[0;34m=\u001b[0m\u001b[0;36m12\u001b[0m\u001b[0;34m)\u001b[0m\u001b[0;34m,\u001b[0m \u001b[0mRow\u001b[0m\u001b[0;34m(\u001b[0m\u001b[0mname\u001b[0m\u001b[0;34m=\u001b[0m\u001b[0;34m'Bob'\u001b[0m\u001b[0;34m,\u001b[0m \u001b[0mage\u001b[0m\u001b[0;34m=\u001b[0m\u001b[0;36m15\u001b[0m\u001b[0;34m)\u001b[0m\u001b[0;34m]\u001b[0m\u001b[0;34m\u001b[0m\u001b[0;34m\u001b[0m\u001b[0m\n\u001b[1;32m   2022\u001b[0m         \"\"\"\n\u001b[0;32m-> 2023\u001b[0;31m         \u001b[0mjdf\u001b[0m \u001b[0;34m=\u001b[0m \u001b[0mself\u001b[0m\u001b[0;34m.\u001b[0m\u001b[0m_jdf\u001b[0m\u001b[0;34m.\u001b[0m\u001b[0mselect\u001b[0m\u001b[0;34m(\u001b[0m\u001b[0mself\u001b[0m\u001b[0;34m.\u001b[0m\u001b[0m_jcols\u001b[0m\u001b[0;34m(\u001b[0m\u001b[0;34m*\u001b[0m\u001b[0mcols\u001b[0m\u001b[0;34m)\u001b[0m\u001b[0;34m)\u001b[0m\u001b[0;34m\u001b[0m\u001b[0;34m\u001b[0m\u001b[0m\n\u001b[0m\u001b[1;32m   2024\u001b[0m         \u001b[0;32mreturn\u001b[0m \u001b[0mDataFrame\u001b[0m\u001b[0;34m(\u001b[0m\u001b[0mjdf\u001b[0m\u001b[0;34m,\u001b[0m \u001b[0mself\u001b[0m\u001b[0;34m.\u001b[0m\u001b[0msparkSession\u001b[0m\u001b[0;34m)\u001b[0m\u001b[0;34m\u001b[0m\u001b[0;34m\u001b[0m\u001b[0m\n\u001b[1;32m   2025\u001b[0m \u001b[0;34m\u001b[0m\u001b[0m\n",
            "\u001b[0;32m/usr/local/lib/python3.9/dist-packages/py4j/java_gateway.py\u001b[0m in \u001b[0;36m__call__\u001b[0;34m(self, *args)\u001b[0m\n\u001b[1;32m   1319\u001b[0m \u001b[0;34m\u001b[0m\u001b[0m\n\u001b[1;32m   1320\u001b[0m         \u001b[0manswer\u001b[0m \u001b[0;34m=\u001b[0m \u001b[0mself\u001b[0m\u001b[0;34m.\u001b[0m\u001b[0mgateway_client\u001b[0m\u001b[0;34m.\u001b[0m\u001b[0msend_command\u001b[0m\u001b[0;34m(\u001b[0m\u001b[0mcommand\u001b[0m\u001b[0;34m)\u001b[0m\u001b[0;34m\u001b[0m\u001b[0;34m\u001b[0m\u001b[0m\n\u001b[0;32m-> 1321\u001b[0;31m         return_value = get_return_value(\n\u001b[0m\u001b[1;32m   1322\u001b[0m             answer, self.gateway_client, self.target_id, self.name)\n\u001b[1;32m   1323\u001b[0m \u001b[0;34m\u001b[0m\u001b[0m\n",
            "\u001b[0;32m/usr/local/lib/python3.9/dist-packages/pyspark/sql/utils.py\u001b[0m in \u001b[0;36mdeco\u001b[0;34m(*a, **kw)\u001b[0m\n\u001b[1;32m    194\u001b[0m                 \u001b[0;31m# Hide where the exception came from that shows a non-Pythonic\u001b[0m\u001b[0;34m\u001b[0m\u001b[0;34m\u001b[0m\u001b[0m\n\u001b[1;32m    195\u001b[0m                 \u001b[0;31m# JVM exception message.\u001b[0m\u001b[0;34m\u001b[0m\u001b[0;34m\u001b[0m\u001b[0m\n\u001b[0;32m--> 196\u001b[0;31m                 \u001b[0;32mraise\u001b[0m \u001b[0mconverted\u001b[0m \u001b[0;32mfrom\u001b[0m \u001b[0;32mNone\u001b[0m\u001b[0;34m\u001b[0m\u001b[0;34m\u001b[0m\u001b[0m\n\u001b[0m\u001b[1;32m    197\u001b[0m             \u001b[0;32melse\u001b[0m\u001b[0;34m:\u001b[0m\u001b[0;34m\u001b[0m\u001b[0;34m\u001b[0m\u001b[0m\n\u001b[1;32m    198\u001b[0m                 \u001b[0;32mraise\u001b[0m\u001b[0;34m\u001b[0m\u001b[0;34m\u001b[0m\u001b[0m\n",
            "\u001b[0;31mAnalysisException\u001b[0m: cannot resolve 'explode(lower(reviewText))' due to data type mismatch: input to function explode should be array or map type, not string;\n'Project [asin#8, explode(lower(reviewText#11)) AS List()]\n+- Project [asin#8, reviewText#11]\n   +- Project [asin#8, overall#10, reviewText#11, reviewerID#13, reviewDate#55]\n      +- Project [asin#8, overall#10, reviewText#11, unixReviewTime#17L, reviewerID#13, date_format(cast(from_unixtime(unixReviewTime#17L, yyyy-MM-dd HH:mm:ss, Some(Etc/UTC)) as timestamp), yyyy-MM-dd, Some(Etc/UTC)) AS reviewDate#55]\n         +- Project [asin#8, overall#10, reviewText#11, unixReviewTime#17L, reviewerID#13]\n            +- Relation [asin#8,image#9,overall#10,reviewText#11,reviewTime#12,reviewerID#13,reviewerName#14,style#15,summary#16,unixReviewTime#17L,verified#18,vote#19] json\n"
          ]
        }
      ]
    },
    {
      "cell_type": "code",
      "source": [
        "episodes_name.select(\n",
        "    F.explode(\"name\").alias(\"name\")\n",
        ").show(5, False)"
      ],
      "metadata": {
        "id": "0h6p6dWynW6n"
      },
      "execution_count": null,
      "outputs": []
    },
    {
      "cell_type": "code",
      "source": [],
      "metadata": {
        "id": "nX0VBbpjnao-"
      },
      "execution_count": null,
      "outputs": []
    }
  ]
}